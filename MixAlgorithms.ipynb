{
 "cells": [
  {
   "cell_type": "code",
   "execution_count": 1,
   "metadata": {
    "collapsed": false
   },
   "outputs": [],
   "source": [
    "# Useful starting lines\n",
    "%matplotlib inline\n",
    "\n",
    "import numpy as np\n",
    "import scipy\n",
    "import scipy.io\n",
    "import scipy.sparse as sp\n",
    "import matplotlib.pyplot as plt\n",
    "%load_ext autoreload\n",
    "%autoreload 2"
   ]
  },
  {
   "cell_type": "code",
   "execution_count": null,
   "metadata": {
    "collapsed": false
   },
   "outputs": [
    {
     "name": "stdout",
     "output_type": "stream",
     "text": [
      "number of items: 10000, number of users: 1000\n",
      "         User  Movie  Prediction\n",
      "768260    625   7331         5.0\n",
      "799019    644   6906         4.0\n",
      "337150    284   5362         3.0\n",
      "822526    657   9880         4.0\n",
      "1102454   907   8468         3.0\n",
      "    User  Movie  Prediction\n",
      "1      0     60         3.0\n",
      "5      0     89         4.0\n",
      "12     0    181         3.0\n",
      "16     0    354         2.0\n",
      "18     0    400         4.0\n"
     ]
    }
   ],
   "source": [
    "from helpers import *\n",
    "from cost import *\n",
    "crossValidation = True\n",
    "if crossValidation:\n",
    "    trainDF, testDF = crossValidationSets(0.7)\n",
    "    testDF.sort_values(['User', 'Movie'], ascending=[1,1], inplace=True)\n",
    "else:\n",
    "    trainDF, testDF = realDataSets() # Kaggle datasets (with no predictions in valuesTest)\n",
    "\n",
    "print(trainDF.head())\n",
    "print(testDF.head())"
   ]
  },
  {
   "cell_type": "code",
   "execution_count": null,
   "metadata": {
    "collapsed": false
   },
   "outputs": [
    {
     "name": "stdout",
     "output_type": "stream",
     "text": [
      "User mean\n",
      "Item mean\n",
      "ALS Spark\n"
     ]
    }
   ],
   "source": [
    "from predictionAlgorithms import *\n",
    "\n",
    "rankALS = 6\n",
    "numIterationsALS = 20\n",
    "lambdaALS = 0.07585775750291851\n",
    "\n",
    "rankALS = 8\n",
    "lambdaALS = 0.081\n",
    "\n",
    "print(\"User mean\")\n",
    "predictionsUserMean = baseline_user_mean(trainDF, testDF)\n",
    "print(\"Item mean\")\n",
    "predictionsItemMean = baseline_item_mean(trainDF, testDF)\n",
    "print(\"ALS Spark\")\n",
    "#predictionsALS = ALSPyspark(trainDF, testDF, rankALS, lambdaALS, numIterationsALS)\n",
    "predictionsALS = ALSPyspark(trainDF, testDF, rankALS, lambdaALS, numIterationsALS)\n",
    "print(\"ALS with bias pywFM\")\n",
    "predictionsALSBias = ALSBias_pywFM(trainDF, testDF)\n",
    "print(\"MCMC\")\n",
    "predictionsMCMC = MCMC_pywFM(trainDF, testDF)"
   ]
  },
  {
   "cell_type": "code",
   "execution_count": null,
   "metadata": {
    "collapsed": false
   },
   "outputs": [],
   "source": [
    "print(\"ALS with bias pywFM\")\n",
    "predictionsALSBias = ALSBias_pywFM(trainDF, testDF)\n",
    "print(\"MCMC\")\n",
    "predictionsMCMC = MCMC_pywFM(trainDF, testDF)"
   ]
  },
  {
   "cell_type": "code",
   "execution_count": null,
   "metadata": {
    "collapsed": false
   },
   "outputs": [],
   "source": [
    "#print(predictionsALS.Prediction.values)\n",
    "print(predictionsALS.head())\n",
    "print(testDF.head())"
   ]
  },
  {
   "cell_type": "code",
   "execution_count": null,
   "metadata": {
    "collapsed": false
   },
   "outputs": [],
   "source": [
    "print(predictionsALS.head())\n",
    "testDF.sort_values(['User', 'Movie'], ascending=[1,1], inplace=True)\n",
    "print(testDF.head())\n",
    "#print(predictionsALS.Prediction)\n",
    "#print(testDF.Prediction)\n",
    "print(compute_cost(predictionsALS._3, trainDF.Prediction.values))\n",
    "if crossValidation:\n",
    "    #print(np.mean((predictionsALS._3-testDF.Prediction.values)**2))\n",
    "    print(compute_cost(predictionsALS._3, testDF.Prediction.values))\n",
    "    #print(np.mean((predictionsALSMartin._3.values-testDF.Prediction)**2))"
   ]
  },
  {
   "cell_type": "code",
   "execution_count": null,
   "metadata": {
    "collapsed": false
   },
   "outputs": [],
   "source": [
    "0.1*np.array(predictionsALSBias)\n",
    "#0.1 *predictionsUserMean"
   ]
  },
  {
   "cell_type": "code",
   "execution_count": null,
   "metadata": {
    "collapsed": false,
    "scrolled": true
   },
   "outputs": [],
   "source": [
    "testDF"
   ]
  },
  {
   "cell_type": "code",
   "execution_count": null,
   "metadata": {
    "collapsed": false
   },
   "outputs": [],
   "source": [
    "testDF.sort_values(['User', 'Movie'], ascending=[1,1], inplace=True)\n",
    "testDF"
   ]
  },
  {
   "cell_type": "code",
   "execution_count": null,
   "metadata": {
    "collapsed": false
   },
   "outputs": [],
   "source": [
    "#wUserMean = 0.0204081632653\n",
    "#wItemMean = 0.020842379505\n",
    "#wALS = 1-wUserMean-wItemMean\n",
    "\n",
    "wUserMean = 0.05\n",
    "wItemMean = 0.\n",
    "wALS = 0.2\n",
    "wALSBias = 0.3\n",
    "wMCMC = 0.6\n",
    "\n",
    "#predictions = (wUserMean*predictionsUserMean + wItemMean*predictionsItemMean + wALS*predictionsALS['Prediction']) / (wUserMean + wItemMean + wALS)\n",
    "predictions = (wUserMean*predictionsUserMean + wItemMean*predictionsItemMean + wALS*predictionsALS._3.values +\n",
    "               wALSBias * np.array(predictionsALSBias) + wMCMC * np.array(predictionsMCMC)) / (wUserMean + wItemMean + wALS + wALSBias + wMCMC)\n",
    "print(predictionsUserMean[0])\n",
    "print(predictionsItemMean[0])\n",
    "#print(predictionsALS.Prediction.values[0])\n",
    "print(predictionsALS._3.values[0])\n",
    "print(predictionsALSBias[0])\n",
    "print(predictionsMCMC[0])\n",
    "print(predictions[0])\n",
    "\n",
    "#compute_cost(predictions, testDF['Prediction'])"
   ]
  },
  {
   "cell_type": "code",
   "execution_count": null,
   "metadata": {
    "collapsed": false
   },
   "outputs": [],
   "source": [
    "from cv import *\n",
    "wUser, wItem, wALS, wALSBias, wMCMC, loss = optimize_weights(predictionsUserMean, predictionsItemMean, predictionsALS._3.values, np.array(predictionsALSBias), np.array(predictionsMCMC), testDF.Prediction.values)\n",
    "print(wUser)\n",
    "print(wItem)\n",
    "print(wALS)\n",
    "print(wALSBias)\n",
    "print(wMCMC)\n",
    "print(loss)"
   ]
  },
  {
   "cell_type": "code",
   "execution_count": null,
   "metadata": {
    "collapsed": false
   },
   "outputs": [],
   "source": [
    "from helpers import *\n",
    "make_submission(predictions)"
   ]
  },
  {
   "cell_type": "code",
   "execution_count": null,
   "metadata": {
    "collapsed": false
   },
   "outputs": [],
   "source": [
    "predictionsALS"
   ]
  },
  {
   "cell_type": "code",
   "execution_count": null,
   "metadata": {
    "collapsed": false
   },
   "outputs": [],
   "source": [
    "from predictionAlgorithms import *\n",
    "predictionsALS = ALSPyspark(trainDF, testDF)"
   ]
  },
  {
   "cell_type": "code",
   "execution_count": null,
   "metadata": {
    "collapsed": false
   },
   "outputs": [],
   "source": [
    "predictionsALS.columns = ['User', 'Movie', 'Prediction']\n",
    "predictionsALS.sort_values(['User', 'Movie'], ascending=[1,1], inplace=True)\n",
    "predictionsALS.head()"
   ]
  },
  {
   "cell_type": "code",
   "execution_count": null,
   "metadata": {
    "collapsed": false
   },
   "outputs": [],
   "source": [
    "predictions = 0.25*predictionsUserMean+0.25*predictionsItemMean + 0.5*predictionsALS['Prediction']"
   ]
  },
  {
   "cell_type": "code",
   "execution_count": null,
   "metadata": {
    "collapsed": false
   },
   "outputs": [],
   "source": [
    "make_submission(predictions)"
   ]
  }
 ],
 "metadata": {
  "anaconda-cloud": {},
  "kernelspec": {
   "display_name": "Python 3",
   "language": "python",
   "name": "python3"
  },
  "language_info": {
   "codemirror_mode": {
    "name": "ipython",
    "version": 3
   },
   "file_extension": ".py",
   "mimetype": "text/x-python",
   "name": "python",
   "nbconvert_exporter": "python",
   "pygments_lexer": "ipython3",
   "version": "3.5.2"
  }
 },
 "nbformat": 4,
 "nbformat_minor": 1
}
