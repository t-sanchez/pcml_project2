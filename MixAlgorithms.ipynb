{
 "cells": [
  {
   "cell_type": "code",
   "execution_count": 1,
   "metadata": {
    "collapsed": false
   },
   "outputs": [],
   "source": [
    "# Useful starting lines\n",
    "%matplotlib inline\n",
    "\n",
    "import numpy as np\n",
    "import scipy\n",
    "import scipy.io\n",
    "import scipy.sparse as sp\n",
    "import matplotlib.pyplot as plt\n",
    "%load_ext autoreload\n",
    "%autoreload 2"
   ]
  },
  {
   "cell_type": "code",
   "execution_count": 2,
   "metadata": {
    "collapsed": false
   },
   "outputs": [
    {
     "name": "stdout",
     "output_type": "stream",
     "text": [
      "number of items: 10000, number of users: 1000\n",
      "number of items: 10000, number of users: 1000\n",
      "   User  Movie  Prediction\n",
      "0     0     43         4.0\n",
      "1     0     60         3.0\n",
      "2     0     66         4.0\n",
      "3     0     71         3.0\n",
      "4     0     85         5.0\n",
      "   User  Movie\n",
      "0     0     36\n",
      "1     0     72\n",
      "2     0    155\n",
      "3     0    159\n",
      "4     0    247\n"
     ]
    }
   ],
   "source": [
    "from helpers import *\n",
    "from cost import *\n",
    "crossValidation = False\n",
    "if crossValidation:\n",
    "    trainDF, testDF = crossValidationSets(0.7)\n",
    "else:\n",
    "    trainDF, testDF = realDataSets() # Kaggle datasets (with no predictions in valuesTest)\n",
    "\n",
    "print(trainDF.head())\n",
    "print(testDF.head())"
   ]
  },
  {
   "cell_type": "code",
   "execution_count": 3,
   "metadata": {
    "collapsed": false
   },
   "outputs": [],
   "source": [
    "from predictionAlgorithms import *\n",
    "\n",
    "rankALS = 6\n",
    "numIterationsALS = 20\n",
    "lambdaALS = 0.07585775750291851\n",
    "\n",
    "rankALS = 8\n",
    "lambdaALS = 0.081\n",
    "\n",
    "predictionsUserMean = baseline_user_mean(trainDF, testDF)\n",
    "predictionsItemMean = baseline_item_mean(trainDF, testDF)\n",
    "#predictionsALS = ALSPyspark(trainDF, testDF, rankALS, lambdaALS, numIterationsALS)\n",
    "predictionsALS = ALSPyspark(trainDF, testDF, rankALS, lambdaALS, numIterationsALS)"
   ]
  },
  {
   "cell_type": "code",
   "execution_count": 4,
   "metadata": {
    "collapsed": false
   },
   "outputs": [
    {
     "name": "stdout",
     "output_type": "stream",
     "text": [
      "   _1   _2        _3\n",
      "0   0   36  3.191471\n",
      "1   0   72  3.046421\n",
      "2   0  155  3.696488\n",
      "3   0  159  3.279599\n",
      "4   0  247  3.516067\n",
      "   User  Movie\n",
      "0     0     36\n",
      "1     0     72\n",
      "2     0    155\n",
      "3     0    159\n",
      "4     0    247\n"
     ]
    }
   ],
   "source": [
    "#print(predictionsALS.Prediction.values)\n",
    "print(predictionsALS.head())\n",
    "print(testDF.head())"
   ]
  },
  {
   "cell_type": "code",
   "execution_count": null,
   "metadata": {
    "collapsed": false
   },
   "outputs": [],
   "source": [
    "print(predictionsALS.head())\n",
    "testDF.sort_values(['User', 'Movie'], ascending=[1,1], inplace=True)\n",
    "print(testDF.head())\n",
    "#print(predictionsALS.Prediction)\n",
    "#print(testDF.Prediction)\n",
    "print(compute_cost(predictionsALS._3, trainDF.Prediction.values))\n",
    "if crossValidation:\n",
    "    #print(np.mean((predictionsALS._3-testDF.Prediction.values)**2))\n",
    "    print(compute_cost(predictionsALS._3, testDF.Prediction.values))\n",
    "    #print(np.mean((predictionsALSMartin._3.values-testDF.Prediction)**2))"
   ]
  },
  {
   "cell_type": "code",
   "execution_count": null,
   "metadata": {
    "collapsed": false
   },
   "outputs": [],
   "source": [
    "wUserMean = 0.0204081632653\n",
    "wItemMean = 0.020842379505\n",
    "wALS = 0.979848228802\n",
    "#predictions = (wUserMean*predictionsUserMean + wItemMean*predictionsItemMean + wALS*predictionsALS['Prediction']) / (wUserMean + wItemMean + wALS)\n",
    "predictions = (wUserMean*predictionsUserMean + wItemMean*predictionsItemMean + wALS*predictionsALS._3.values) / (wUserMean + wItemMean + wALS)\n",
    "print(predictionsUserMean[0])\n",
    "print(predictionsItemMean[0])\n",
    "#print(predictionsALS.Prediction.values[0])\n",
    "print(predictionsALS._3.values[0])\n",
    "print(predictions[0])"
   ]
  },
  {
   "cell_type": "code",
   "execution_count": null,
   "metadata": {
    "collapsed": false
   },
   "outputs": [],
   "source": [
    "from cv import *\n",
    "wUser, wItem, wALS, loss = optimize_weights(predictionsUserMean, predictionsItemMean, predictionsALS._3.values, testDF.Prediction.values)\n",
    "print(wUser)\n",
    "print(wItem)\n",
    "print(wALS)\n",
    "print(loss)"
   ]
  },
  {
   "cell_type": "code",
   "execution_count": null,
   "metadata": {
    "collapsed": false
   },
   "outputs": [],
   "source": [
    "from helpers import *\n",
    "make_submission(predictions)"
   ]
  },
  {
   "cell_type": "code",
   "execution_count": null,
   "metadata": {
    "collapsed": false
   },
   "outputs": [],
   "source": [
    "predictionsALS"
   ]
  },
  {
   "cell_type": "code",
   "execution_count": null,
   "metadata": {
    "collapsed": false
   },
   "outputs": [],
   "source": [
    "from predictionAlgorithms import *\n",
    "predictionsALS = ALSPyspark(trainDF, testDF)"
   ]
  },
  {
   "cell_type": "code",
   "execution_count": null,
   "metadata": {
    "collapsed": false
   },
   "outputs": [],
   "source": [
    "predictionsALS.columns = ['User', 'Movie', 'Prediction']\n",
    "predictionsALS.sort_values(['User', 'Movie'], ascending=[1,1], inplace=True)\n",
    "predictionsALS.head()"
   ]
  },
  {
   "cell_type": "code",
   "execution_count": null,
   "metadata": {
    "collapsed": false
   },
   "outputs": [],
   "source": [
    "predictions = 0.25*predictionsUserMean+0.25*predictionsItemMean + 0.5*predictionsALS['Prediction']"
   ]
  },
  {
   "cell_type": "code",
   "execution_count": null,
   "metadata": {
    "collapsed": false
   },
   "outputs": [],
   "source": [
    "make_submission(predictions)"
   ]
  }
 ],
 "metadata": {
  "anaconda-cloud": {},
  "kernelspec": {
   "display_name": "Python [Root]",
   "language": "python",
   "name": "Python [Root]"
  },
  "language_info": {
   "codemirror_mode": {
    "name": "ipython",
    "version": 3
   },
   "file_extension": ".py",
   "mimetype": "text/x-python",
   "name": "python",
   "nbconvert_exporter": "python",
   "pygments_lexer": "ipython3",
   "version": "3.5.2"
  }
 },
 "nbformat": 4,
 "nbformat_minor": 1
}
