{
 "cells": [
  {
   "cell_type": "code",
   "execution_count": null,
   "metadata": {
    "collapsed": false
   },
   "outputs": [],
   "source": [
    "# Useful starting lines\n",
    "%matplotlib inline\n",
    "\n",
    "import numpy as np\n",
    "import scipy\n",
    "import scipy.io\n",
    "import scipy.sparse as sp\n",
    "import matplotlib.pyplot as plt\n",
    "%load_ext autoreload\n",
    "%autoreload 2"
   ]
  },
  {
   "cell_type": "code",
   "execution_count": null,
   "metadata": {
    "collapsed": false,
    "scrolled": true
   },
   "outputs": [],
   "source": [
    "from helpers import *\n",
    "from cost import *\n",
    "crossValidation = False\n",
    "if crossValidation:\n",
    "    trainDF, testDF = crossValidationSets(0.7)\n",
    "    testDF.sort_values(['User', 'Movie'], ascending=[1,1], inplace=True)\n",
    "    trainDF.sort_values(['User', 'Movie'], ascending=[1,1], inplace=True)\n",
    "else:\n",
    "    trainDF, testDF = realDataSets() # Kaggle datasets (with no predictions in valuesTest)\n",
    "\n",
    "print(trainDF.head())\n",
    "print(testDF.head())"
   ]
  },
  {
   "cell_type": "code",
   "execution_count": null,
   "metadata": {
    "collapsed": false
   },
   "outputs": [],
   "source": [
    "from predictionAlgorithms import *\n",
    "\n",
    "print(\"User mean\")\n",
    "predictionsUserMean = baseline_user_mean(trainDF, testDF)\n",
    "print(\"Item mean\")\n",
    "predictionsItemMean = baseline_item_mean(trainDF, testDF)"
   ]
  },
  {
   "cell_type": "code",
   "execution_count": null,
   "metadata": {
    "collapsed": false
   },
   "outputs": [],
   "source": [
    "print(\"User mean : test RMSE = {te}\"\n",
    "      .format(te=compute_cost(predictionsUserMean, testDF['Prediction'])))\n",
    "\n",
    "print(\"Item mean : test RMSE = {te}\"\n",
    "      .format(te=compute_cost(predictionsItemMean, testDF['Prediction'])))\n",
    "\n",
    "wU = 0.8\n",
    "wI = 0.2\n",
    "print(\"Mix mean : test RMSE = {te}\"\n",
    "      .format(te=compute_cost((wU*predictionsUserMean + wI*predictionsItemMean) / (wU+wI), testDF['Prediction'])))"
   ]
  },
  {
   "cell_type": "code",
   "execution_count": null,
   "metadata": {
    "collapsed": false
   },
   "outputs": [],
   "source": [
    "from predictionAlgorithms import *\n",
    "\n",
    "numIterationsALS = 20\n",
    "\n",
    "rankALS = 8\n",
    "lambdaALS = 0.081\n",
    "\n",
    "print(\"User mean\")\n",
    "predictionsUserMean = baseline_user_mean(trainDF, testDF)\n",
    "print(\"Item mean\")\n",
    "predictionsItemMean = baseline_item_mean(trainDF, testDF)\n",
    "print(\"ALS Spark\")\n",
    "predictionsALS = ALSPyspark(trainDF, testDF, rankALS, lambdaALS, numIterationsALS)\n",
    "print(\"ALS with bias pywFM\")\n",
    "predictionsALSBias = ALSBias_pywFM(trainDF, testDF)\n",
    "print(\"MCMC\")\n",
    "predictionsMCMC = MCMC_pywFM(trainDF, testDF)\n",
    "\n",
    "if crossValidation:\n",
    "    print(\"User mean\")\n",
    "    predictionsUserMeanTrain = baseline_user_median(trainDF, trainDF)\n",
    "    print(\"Item mean\")\n",
    "    predictionsItemMeanTrain = baseline_item_median(trainDF, trainDF)\n",
    "    print(\"ALS Spark\")\n",
    "    #predictionsALS = ALSPyspark(trainDF, testDF, rankALS, lambdaALS, numIterationsALS)\n",
    "    predictionsALSTrain = ALSPyspark(trainDF, trainDF, rankALS, lambdaALS, numIterationsALS)\n",
    "    print(\"ALS with bias pywFM\")\n",
    "    predictionsALSBiasTrain = ALSBias_pywFM(trainDF, trainDF)\n",
    "    print(\"MCMC\")\n",
    "    predictionsMCMCTrain = MCMC_pywFM(trainDF, trainDF)"
   ]
  },
  {
   "cell_type": "code",
   "execution_count": null,
   "metadata": {
    "collapsed": false
   },
   "outputs": [],
   "source": [
    "print(len(predictionsALS))\n",
    "testDF"
   ]
  },
  {
   "cell_type": "code",
   "execution_count": null,
   "metadata": {
    "collapsed": false
   },
   "outputs": [],
   "source": [
    "t = testDF.loc[[1,2,3,4]]\n",
    "t"
   ]
  },
  {
   "cell_type": "code",
   "execution_count": null,
   "metadata": {
    "collapsed": false
   },
   "outputs": [],
   "source": [
    "#print(predictionsALS.Prediction.values)\n",
    "print(predictionsALS.head())\n",
    "print(testDF.head())\n",
    "\n",
    "print(predictionsALSTrain.head())\n",
    "print(trainDF.head())"
   ]
  },
  {
   "cell_type": "code",
   "execution_count": null,
   "metadata": {
    "collapsed": false
   },
   "outputs": [],
   "source": [
    "print(\"User mean : train RMSE = {tr}, test RMSE = {te}\"\n",
    "      .format(tr=compute_cost(predictionsUserMeanTrain, trainDF['Prediction']), te=compute_cost(predictionsUserMean, testDF['Prediction'])))\n",
    "\n",
    "print(\"Item mean : train RMSE = {tr}, test RMSE = {te}\"\n",
    "      .format(tr=compute_cost(predictionsItemMeanTrain, trainDF['Prediction']), te=compute_cost(predictionsItemMean, testDF['Prediction'])))\n",
    "\n",
    "print(\"ALS Pyspark : train RMSE = {tr}, test RMSE = {te}\"\n",
    "      .format(tr=compute_cost(predictionsALSTrain, trainDF['Prediction']), te=compute_cost(predictionsALS, testDF['Prediction'])))\n",
    "\n",
    "print(\"ALS biased : : train RMSE = {tr}, test RMSE = {te}\"\n",
    "      .format(tr=compute_cost(predictionsALSBiasTrain, trainDF['Prediction']), te=compute_cost(predictionsALSBias, testDF['Prediction'])))\n",
    "\n",
    "print(\"ALS MCMC : : train RMSE = {tr}, test RMSE = {te}\"\n",
    "      .format(tr=compute_cost(predictionsMCMCTrain, trainDF['Prediction']), te=compute_cost(predictionsMCMC, testDF['Prediction'])))\n",
    "\n"
   ]
  },
  {
   "cell_type": "code",
   "execution_count": null,
   "metadata": {
    "collapsed": false
   },
   "outputs": [],
   "source": [
    "print(np.shape(predictionsUserMean[1:10]))\n",
    "print(np.shape([predictionsUserMean[1:10], predictionsItemMean[1:10]]))\n",
    "print(predictionsUserMean[1:10])\n",
    "print(predictionsItemMean[1:10])\n",
    "print(predictionsALS[1:10])\n",
    "np.median([predictionsUserMean[1:10], predictionsItemMean[1:10], predictionsALS[1:10]], axis=0)"
   ]
  },
  {
   "cell_type": "code",
   "execution_count": null,
   "metadata": {
    "collapsed": false
   },
   "outputs": [],
   "source": [
    "#wUserMean = 0.0204081632653\n",
    "#wItemMean = 0.020842379505\n",
    "#wALS = 1-wUserMean-wItemMean\n",
    "\n",
    "wUserMean = 0.0222222222222\n",
    "wItemMean = 0.0\n",
    "wALS = 0.157894736842\n",
    "wALSBias = 0.315789473684\n",
    "wMCMC = 0.504093567251\n",
    "\n",
    "#predictions = (wUserMean*predictionsUserMean + wItemMean*predictionsItemMean + wALS*predictionsALS['Prediction']) / (wUserMean + wItemMean + wALS)\n",
    "predictions = (wUserMean*predictionsUserMean + wItemMean*predictionsItemMean + wALS*predictionsALS +\n",
    "               wALSBias * predictionsALSBias + wMCMC * predictionsMCMC) / (wUserMean + wItemMean + wALS + wALSBias + wMCMC)\n",
    "predictionsMedian = np.median([predictionsALS, predictionsALSBias, predictionsMCMC], axis=0)\n",
    "\n",
    "\n",
    "print(predictionsUserMean[0])\n",
    "print(predictionsItemMean[0])\n",
    "#print(predictionsALS.Prediction.values[0])\n",
    "print(predictionsALS[0])\n",
    "print(predictionsALSBias[0])\n",
    "print(predictionsMCMC[0])\n",
    "print(predictions[0])\n",
    "print(predictionsMedian[0])\n",
    "\n",
    "if crossValidation:\n",
    "    predictionsTrain = (wUserMean*predictionsUserMeanTrain + wItemMean*predictionsItemMeanTrain + wALS*predictionsALSTrain +\n",
    "               wALSBias * predictionsALSBiasTrain + wMCMC * predictionsMCMCTrain) / (wUserMean + wItemMean + wALS + wALSBias + wMCMC)\n",
    "    print(compute_cost(predictions, testDF['Prediction']))\n",
    "    print(compute_cost(predictionsMedian, testDF['Prediction']))\n",
    "    print(compute_cost(predictionsTrain, trainDF['Prediction']))"
   ]
  },
  {
   "cell_type": "code",
   "execution_count": null,
   "metadata": {
    "collapsed": false
   },
   "outputs": [],
   "source": [
    "from cv import *\n",
    "wUser, wItem, wALS, wALSB, wMCMC, loss = optimize_weights(predictionsUserMean, predictionsItemMean, predictionsALS, predictionsALSBias, predictionsMCMC, testDF.Prediction.values)\n",
    "print(wUser)\n",
    "print(wItem)\n",
    "print(wALS)\n",
    "print(wALSB)\n",
    "print(wMCMC)\n",
    "print(loss)"
   ]
  },
  {
   "cell_type": "code",
   "execution_count": null,
   "metadata": {
    "collapsed": false
   },
   "outputs": [],
   "source": [
    "from helpers import *\n",
    "make_submission(predictions)"
   ]
  },
  {
   "cell_type": "code",
   "execution_count": null,
   "metadata": {
    "collapsed": false
   },
   "outputs": [],
   "source": [
    "predictionsALS"
   ]
  },
  {
   "cell_type": "code",
   "execution_count": null,
   "metadata": {
    "collapsed": false
   },
   "outputs": [],
   "source": [
    "from predictionAlgorithms import *\n",
    "predictionsALS = ALSPyspark(trainDF, testDF)"
   ]
  },
  {
   "cell_type": "code",
   "execution_count": null,
   "metadata": {
    "collapsed": false
   },
   "outputs": [],
   "source": [
    "predictionsALS.columns = ['User', 'Movie', 'Prediction']\n",
    "predictionsALS.sort_values(['User', 'Movie'], ascending=[1,1], inplace=True)\n",
    "predictionsALS.head()"
   ]
  },
  {
   "cell_type": "code",
   "execution_count": null,
   "metadata": {
    "collapsed": false
   },
   "outputs": [],
   "source": [
    "predictions = 0.25*predictionsUserMean+0.25*predictionsItemMean + 0.5*predictionsALS['Prediction']"
   ]
  },
  {
   "cell_type": "code",
   "execution_count": null,
   "metadata": {
    "collapsed": false
   },
   "outputs": [],
   "source": [
    "make_submission(predictions)"
   ]
  }
 ],
 "metadata": {
  "anaconda-cloud": {},
  "kernelspec": {
   "display_name": "Python 3",
   "language": "python",
   "name": "python3"
  },
  "language_info": {
   "codemirror_mode": {
    "name": "ipython",
    "version": 3
   },
   "file_extension": ".py",
   "mimetype": "text/x-python",
   "name": "python",
   "nbconvert_exporter": "python",
   "pygments_lexer": "ipython3",
   "version": "3.5.2"
  }
 },
 "nbformat": 4,
 "nbformat_minor": 1
}
