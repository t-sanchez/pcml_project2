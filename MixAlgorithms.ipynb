{
 "cells": [
  {
   "cell_type": "code",
   "execution_count": 1,
   "metadata": {
    "collapsed": false
   },
   "outputs": [],
   "source": [
    "# Useful starting lines\n",
    "%matplotlib inline\n",
    "\n",
    "import numpy as np\n",
    "import scipy\n",
    "import scipy.io\n",
    "import scipy.sparse as sp\n",
    "import matplotlib.pyplot as plt\n",
    "%load_ext autoreload\n",
    "%autoreload 2"
   ]
  },
  {
   "cell_type": "code",
   "execution_count": 2,
   "metadata": {
    "collapsed": false
   },
   "outputs": [
    {
     "name": "stdout",
     "output_type": "stream",
     "text": [
      "number of items: 10000, number of users: 1000\n"
     ]
    },
    {
     "ename": "KeyboardInterrupt",
     "evalue": "",
     "output_type": "error",
     "traceback": [
      "\u001b[1;31m---------------------------------------------------------------------------\u001b[0m",
      "\u001b[1;31mKeyboardInterrupt\u001b[0m                         Traceback (most recent call last)",
      "\u001b[1;32m<ipython-input-2-0f4c5e7a217d>\u001b[0m in \u001b[0;36m<module>\u001b[1;34m()\u001b[0m\n\u001b[0;32m      3\u001b[0m \u001b[0mcrossValidation\u001b[0m \u001b[1;33m=\u001b[0m \u001b[1;32mTrue\u001b[0m\u001b[1;33m\u001b[0m\u001b[0m\n\u001b[0;32m      4\u001b[0m \u001b[1;32mif\u001b[0m \u001b[0mcrossValidation\u001b[0m\u001b[1;33m:\u001b[0m\u001b[1;33m\u001b[0m\u001b[0m\n\u001b[1;32m----> 5\u001b[1;33m     \u001b[0mtrainDF\u001b[0m\u001b[1;33m,\u001b[0m \u001b[0mtestDF\u001b[0m \u001b[1;33m=\u001b[0m \u001b[0mcrossValidationSets\u001b[0m\u001b[1;33m(\u001b[0m\u001b[1;36m0.7\u001b[0m\u001b[1;33m)\u001b[0m\u001b[1;33m\u001b[0m\u001b[0m\n\u001b[0m\u001b[0;32m      6\u001b[0m     \u001b[0mtestDF\u001b[0m\u001b[1;33m.\u001b[0m\u001b[0msort_values\u001b[0m\u001b[1;33m(\u001b[0m\u001b[1;33m[\u001b[0m\u001b[1;34m'User'\u001b[0m\u001b[1;33m,\u001b[0m \u001b[1;34m'Movie'\u001b[0m\u001b[1;33m]\u001b[0m\u001b[1;33m,\u001b[0m \u001b[0mascending\u001b[0m\u001b[1;33m=\u001b[0m\u001b[1;33m[\u001b[0m\u001b[1;36m1\u001b[0m\u001b[1;33m,\u001b[0m\u001b[1;36m1\u001b[0m\u001b[1;33m]\u001b[0m\u001b[1;33m,\u001b[0m \u001b[0minplace\u001b[0m\u001b[1;33m=\u001b[0m\u001b[1;32mTrue\u001b[0m\u001b[1;33m)\u001b[0m\u001b[1;33m\u001b[0m\u001b[0m\n\u001b[0;32m      7\u001b[0m \u001b[1;32melse\u001b[0m\u001b[1;33m:\u001b[0m\u001b[1;33m\u001b[0m\u001b[0m\n",
      "\u001b[1;32m/home/thomas/Documents/EPFL/5eme - 2e Master/Machine Learning/pcml_project2/helpers.py\u001b[0m in \u001b[0;36mcrossValidationSets\u001b[1;34m(p)\u001b[0m\n\u001b[0;32m    159\u001b[0m \u001b[1;32mdef\u001b[0m \u001b[0mcrossValidationSets\u001b[0m\u001b[1;33m(\u001b[0m\u001b[0mp\u001b[0m\u001b[1;33m)\u001b[0m\u001b[1;33m:\u001b[0m\u001b[1;33m\u001b[0m\u001b[0m\n\u001b[0;32m    160\u001b[0m     \u001b[0mpath_dataset\u001b[0m \u001b[1;33m=\u001b[0m \u001b[1;34m\"data_train.csv\"\u001b[0m\u001b[1;33m\u001b[0m\u001b[0m\n\u001b[1;32m--> 161\u001b[1;33m     \u001b[0mtrain\u001b[0m \u001b[1;33m=\u001b[0m \u001b[0mload_data\u001b[0m\u001b[1;33m(\u001b[0m\u001b[0mpath_dataset\u001b[0m\u001b[1;33m)\u001b[0m\u001b[1;33m\u001b[0m\u001b[0m\n\u001b[0m\u001b[0;32m    162\u001b[0m     \u001b[0mvalues_train\u001b[0m \u001b[1;33m=\u001b[0m \u001b[0msp\u001b[0m\u001b[1;33m.\u001b[0m\u001b[0mfind\u001b[0m\u001b[1;33m(\u001b[0m\u001b[0mtrain\u001b[0m\u001b[1;33m)\u001b[0m\u001b[1;33m\u001b[0m\u001b[0m\n\u001b[0;32m    163\u001b[0m     \u001b[0mtrainDF\u001b[0m \u001b[1;33m=\u001b[0m \u001b[0mpd\u001b[0m\u001b[1;33m.\u001b[0m\u001b[0mDataFrame\u001b[0m\u001b[1;33m(\u001b[0m\u001b[0mvalues_train\u001b[0m\u001b[1;33m[\u001b[0m\u001b[1;36m1\u001b[0m\u001b[1;33m]\u001b[0m\u001b[1;33m,\u001b[0m \u001b[0mcolumns\u001b[0m \u001b[1;33m=\u001b[0m \u001b[1;33m[\u001b[0m\u001b[1;34m'User'\u001b[0m\u001b[1;33m]\u001b[0m\u001b[1;33m)\u001b[0m\u001b[1;33m\u001b[0m\u001b[0m\n",
      "\u001b[1;32m/home/thomas/Documents/EPFL/5eme - 2e Master/Machine Learning/pcml_project2/helpers.py\u001b[0m in \u001b[0;36mload_data\u001b[1;34m(path_dataset)\u001b[0m\n\u001b[0;32m     18\u001b[0m     \u001b[1;34m\"\"\"Load data in text format, one rating per line, as in the kaggle competition.\"\"\"\u001b[0m\u001b[1;33m\u001b[0m\u001b[0m\n\u001b[0;32m     19\u001b[0m     \u001b[0mdata\u001b[0m \u001b[1;33m=\u001b[0m \u001b[0mread_txt\u001b[0m\u001b[1;33m(\u001b[0m\u001b[0mpath_dataset\u001b[0m\u001b[1;33m)\u001b[0m\u001b[1;33m[\u001b[0m\u001b[1;36m1\u001b[0m\u001b[1;33m:\u001b[0m\u001b[1;33m]\u001b[0m\u001b[1;33m\u001b[0m\u001b[0m\n\u001b[1;32m---> 20\u001b[1;33m     \u001b[1;32mreturn\u001b[0m \u001b[0mpreprocess_data\u001b[0m\u001b[1;33m(\u001b[0m\u001b[0mdata\u001b[0m\u001b[1;33m)\u001b[0m\u001b[1;33m\u001b[0m\u001b[0m\n\u001b[0m\u001b[0;32m     21\u001b[0m \u001b[1;33m\u001b[0m\u001b[0m\n\u001b[0;32m     22\u001b[0m \u001b[1;33m\u001b[0m\u001b[0m\n",
      "\u001b[1;32m/home/thomas/Documents/EPFL/5eme - 2e Master/Machine Learning/pcml_project2/helpers.py\u001b[0m in \u001b[0;36mpreprocess_data\u001b[1;34m(data)\u001b[0m\n\u001b[0;32m     45\u001b[0m     \u001b[0mratings\u001b[0m \u001b[1;33m=\u001b[0m \u001b[0msp\u001b[0m\u001b[1;33m.\u001b[0m\u001b[0mlil_matrix\u001b[0m\u001b[1;33m(\u001b[0m\u001b[1;33m(\u001b[0m\u001b[0mmax_row\u001b[0m\u001b[1;33m,\u001b[0m \u001b[0mmax_col\u001b[0m\u001b[1;33m)\u001b[0m\u001b[1;33m)\u001b[0m\u001b[1;33m\u001b[0m\u001b[0m\n\u001b[0;32m     46\u001b[0m     \u001b[1;32mfor\u001b[0m \u001b[0mrow\u001b[0m\u001b[1;33m,\u001b[0m \u001b[0mcol\u001b[0m\u001b[1;33m,\u001b[0m \u001b[0mrating\u001b[0m \u001b[1;32min\u001b[0m \u001b[0mdata\u001b[0m\u001b[1;33m:\u001b[0m\u001b[1;33m\u001b[0m\u001b[0m\n\u001b[1;32m---> 47\u001b[1;33m         \u001b[0mratings\u001b[0m\u001b[1;33m[\u001b[0m\u001b[0mrow\u001b[0m \u001b[1;33m-\u001b[0m \u001b[1;36m1\u001b[0m\u001b[1;33m,\u001b[0m \u001b[0mcol\u001b[0m \u001b[1;33m-\u001b[0m \u001b[1;36m1\u001b[0m\u001b[1;33m]\u001b[0m \u001b[1;33m=\u001b[0m \u001b[0mrating\u001b[0m\u001b[1;33m\u001b[0m\u001b[0m\n\u001b[0m\u001b[0;32m     48\u001b[0m     \u001b[1;32mreturn\u001b[0m \u001b[0mratings\u001b[0m\u001b[1;33m\u001b[0m\u001b[0m\n\u001b[0;32m     49\u001b[0m \u001b[1;33m\u001b[0m\u001b[0m\n",
      "\u001b[1;32m/home/thomas/anaconda3/lib/python3.5/site-packages/scipy/sparse/lil.py\u001b[0m in \u001b[0;36m__setitem__\u001b[1;34m(self, index, x)\u001b[0m\n\u001b[0;32m    344\u001b[0m                     \u001b[1;32mraise\u001b[0m \u001b[0mValueError\u001b[0m\u001b[1;33m(\u001b[0m\u001b[1;34m\"Trying to assign a sequence to an item\"\u001b[0m\u001b[1;33m)\u001b[0m\u001b[1;33m\u001b[0m\u001b[0m\n\u001b[0;32m    345\u001b[0m                 _csparsetools.lil_insert(self.shape[0], self.shape[1],\n\u001b[1;32m--> 346\u001b[1;33m                                          self.rows, self.data, i, j, x)\n\u001b[0m\u001b[0;32m    347\u001b[0m                 \u001b[1;32mreturn\u001b[0m\u001b[1;33m\u001b[0m\u001b[0m\n\u001b[0;32m    348\u001b[0m \u001b[1;33m\u001b[0m\u001b[0m\n",
      "\u001b[1;31mKeyboardInterrupt\u001b[0m: "
     ]
    }
   ],
   "source": [
    "from helpers import *\n",
    "from cost import *\n",
    "crossValidation = True\n",
    "if crossValidation:\n",
    "    trainDF, testDF = crossValidationSets(0.7)\n",
    "    testDF.sort_values(['User', 'Movie'], ascending=[1,1], inplace=True)\n",
    "else:\n",
    "    trainDF, testDF = realDataSets() # Kaggle datasets (with no predictions in valuesTest)\n",
    "\n",
    "print(trainDF.head())\n",
    "print(testDF.head())"
   ]
  },
  {
   "cell_type": "code",
   "execution_count": null,
   "metadata": {
    "collapsed": false
   },
   "outputs": [
    {
     "name": "stdout",
     "output_type": "stream",
     "text": [
      "User mean\n",
      "Item mean\n",
      "ALS Spark\n"
     ]
    }
   ],
   "source": [
    "from predictionAlgorithms import *\n",
    "\n",
    "rankALS = 6\n",
    "numIterationsALS = 20\n",
    "lambdaALS = 0.07585775750291851\n",
    "\n",
    "rankALS = 8\n",
    "lambdaALS = 0.081\n",
    "\n",
    "print(\"User mean\")\n",
    "predictionsUserMean = baseline_user_mean(trainDF, testDF)\n",
    "print(\"Item mean\")\n",
    "predictionsItemMean = baseline_item_mean(trainDF, testDF)\n",
    "print(\"ALS Spark\")\n",
    "#predictionsALS = ALSPyspark(trainDF, testDF, rankALS, lambdaALS, numIterationsALS)\n",
    "predictionsALS = ALSPyspark(trainDF, testDF, rankALS, lambdaALS, numIterationsALS)\n",
    "print(\"ALS with bias pywFM\")\n",
    "predictionsALSBias = ALSBias_pywFM(trainDF, testDF)\n",
    "print(\"MCMC\")\n",
    "predictionsMCMC = MCMC_pywFM(trainDF, testDF)"
   ]
  },
  {
   "cell_type": "code",
   "execution_count": null,
   "metadata": {
    "collapsed": false
   },
   "outputs": [],
   "source": [
    "print(\"ALS with bias pywFM\")\n",
    "predictionsALSBias = ALSBias_pywFM(trainDF, testDF)\n",
    "print(\"MCMC\")\n",
    "predictionsMCMC = MCMC_pywFM(trainDF, testDF)"
   ]
  },
  {
   "cell_type": "code",
   "execution_count": null,
   "metadata": {
    "collapsed": false
   },
   "outputs": [],
   "source": [
    "#print(predictionsALS.Prediction.values)\n",
    "print(predictionsALS.head())\n",
    "print(testDF.head())"
   ]
  },
  {
   "cell_type": "code",
   "execution_count": null,
   "metadata": {
    "collapsed": false
   },
   "outputs": [],
   "source": [
    "print(predictionsALS.head())\n",
    "testDF.sort_values(['User', 'Movie'], ascending=[1,1], inplace=True)\n",
    "print(testDF.head())\n",
    "#print(predictionsALS.Prediction)\n",
    "#print(testDF.Prediction)\n",
    "print(compute_cost(predictionsALS._3, trainDF.Prediction.values))\n",
    "if crossValidation:\n",
    "    #print(np.mean((predictionsALS._3-testDF.Prediction.values)**2))\n",
    "    print(compute_cost(predictionsALS._3, testDF.Prediction.values))\n",
    "    #print(np.mean((predictionsALSMartin._3.values-testDF.Prediction)**2))"
   ]
  },
  {
   "cell_type": "code",
   "execution_count": null,
   "metadata": {
    "collapsed": false
   },
   "outputs": [],
   "source": [
    "0.1*np.array(predictionsALSBias)\n",
    "#0.1 *predictionsUserMean"
   ]
  },
  {
   "cell_type": "code",
   "execution_count": null,
   "metadata": {
    "collapsed": false,
    "scrolled": true
   },
   "outputs": [],
   "source": [
    "testDF"
   ]
  },
  {
   "cell_type": "code",
   "execution_count": null,
   "metadata": {
    "collapsed": false
   },
   "outputs": [],
   "source": [
    "testDF.sort_values(['User', 'Movie'], ascending=[1,1], inplace=True)\n",
    "testDF"
   ]
  },
  {
   "cell_type": "code",
   "execution_count": null,
   "metadata": {
    "collapsed": false
   },
   "outputs": [],
   "source": [
    "#wUserMean = 0.0204081632653\n",
    "#wItemMean = 0.020842379505\n",
    "#wALS = 1-wUserMean-wItemMean\n",
    "\n",
    "wUserMean = 0.05\n",
    "wItemMean = 0.\n",
    "wALS = 0.2\n",
    "wALSBias = 0.3\n",
    "wMCMC = 0.6\n",
    "\n",
    "#predictions = (wUserMean*predictionsUserMean + wItemMean*predictionsItemMean + wALS*predictionsALS['Prediction']) / (wUserMean + wItemMean + wALS)\n",
    "predictions = (wUserMean*predictionsUserMean + wItemMean*predictionsItemMean + wALS*predictionsALS._3.values +\n",
    "               wALSBias * np.array(predictionsALSBias) + wMCMC * np.array(predictionsMCMC)) / (wUserMean + wItemMean + wALS + wALSBias + wMCMC)\n",
    "print(predictionsUserMean[0])\n",
    "print(predictionsItemMean[0])\n",
    "#print(predictionsALS.Prediction.values[0])\n",
    "print(predictionsALS._3.values[0])\n",
    "print(predictionsALSBias[0])\n",
    "print(predictionsMCMC[0])\n",
    "print(predictions[0])\n",
    "\n",
    "#compute_cost(predictions, testDF['Prediction'])"
   ]
  },
  {
   "cell_type": "code",
   "execution_count": null,
   "metadata": {
    "collapsed": false
   },
   "outputs": [],
   "source": [
    "from cv import *\n",
    "wUser, wItem, wALS, wALSBias, wMCMC, loss = optimize_weights(predictionsUserMean, predictionsItemMean, predictionsALS._3.values, np.array(predictionsALSBias), np.array(predictionsMCMC), testDF.Prediction.values)\n",
    "print(wUser)\n",
    "print(wItem)\n",
    "print(wALS)\n",
    "print(wALSBias)\n",
    "print(wMCMC)\n",
    "print(loss)"
   ]
  },
  {
   "cell_type": "code",
   "execution_count": null,
   "metadata": {
    "collapsed": false
   },
   "outputs": [],
   "source": [
    "from helpers import *\n",
    "make_submission(predictions)"
   ]
  },
  {
   "cell_type": "code",
   "execution_count": null,
   "metadata": {
    "collapsed": false
   },
   "outputs": [],
   "source": [
    "predictionsALS"
   ]
  },
  {
   "cell_type": "code",
   "execution_count": null,
   "metadata": {
    "collapsed": false
   },
   "outputs": [],
   "source": [
    "from predictionAlgorithms import *\n",
    "predictionsALS = ALSPyspark(trainDF, testDF)"
   ]
  },
  {
   "cell_type": "code",
   "execution_count": null,
   "metadata": {
    "collapsed": false
   },
   "outputs": [],
   "source": [
    "predictionsALS.columns = ['User', 'Movie', 'Prediction']\n",
    "predictionsALS.sort_values(['User', 'Movie'], ascending=[1,1], inplace=True)\n",
    "predictionsALS.head()"
   ]
  },
  {
   "cell_type": "code",
   "execution_count": null,
   "metadata": {
    "collapsed": false
   },
   "outputs": [],
   "source": [
    "predictions = 0.25*predictionsUserMean+0.25*predictionsItemMean + 0.5*predictionsALS['Prediction']"
   ]
  },
  {
   "cell_type": "code",
   "execution_count": null,
   "metadata": {
    "collapsed": false
   },
   "outputs": [],
   "source": [
    "make_submission(predictions)"
   ]
  }
 ],
 "metadata": {
  "anaconda-cloud": {},
  "kernelspec": {
   "display_name": "Python [Root]",
   "language": "python",
   "name": "Python [Root]"
  },
  "language_info": {
   "codemirror_mode": {
    "name": "ipython",
    "version": 3
   },
   "file_extension": ".py",
   "mimetype": "text/x-python",
   "name": "python",
   "nbconvert_exporter": "python",
   "pygments_lexer": "ipython3",
   "version": "3.5.2"
  }
 },
 "nbformat": 4,
 "nbformat_minor": 1
}
