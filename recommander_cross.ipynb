{
 "cells": [
  {
   "cell_type": "code",
   "execution_count": null,
   "metadata": {
    "collapsed": false
   },
   "outputs": [],
   "source": [
    "import pandas as pd\n",
    "import numpy as np\n",
    "import findspark\n",
    "findspark.init('/srv/spark')\n",
    "import pyspark\n",
    "from pyspark import SparkContext\n",
    "from pyspark.mllib.recommendation import ALS, MatrixFactorizationModel, Rating\n",
    "import glob\n"
   ]
  },
  {
   "cell_type": "code",
   "execution_count": null,
   "metadata": {
    "collapsed": false
   },
   "outputs": [],
   "source": [
    "sc = SparkContext()\n",
    "sq = pyspark.sql.SQLContext(sc)"
   ]
  },
  {
   "cell_type": "code",
   "execution_count": null,
   "metadata": {
    "collapsed": true
   },
   "outputs": [],
   "source": [
    "data = pd.read_csv('data_train.csv')"
   ]
  },
  {
   "cell_type": "code",
   "execution_count": null,
   "metadata": {
    "collapsed": false
   },
   "outputs": [],
   "source": [
    "data.head()"
   ]
  },
  {
   "cell_type": "code",
   "execution_count": null,
   "metadata": {
    "collapsed": true
   },
   "outputs": [],
   "source": [
    "def cross_vad(y,ratio) :\n",
    "\n",
    "    n = y.shape[0]\n",
    "    interval = int(n *ratio)\n",
    "    seed = 3\n",
    "    np.random.seed(seed)\n",
    "    index = np.random.permutation(n)\n",
    "    k_train = index[:interval]\n",
    "    k_test  = index[interval:]\n",
    "    return k_train , k_test"
   ]
  },
  {
   "cell_type": "code",
   "execution_count": null,
   "metadata": {
    "collapsed": false
   },
   "outputs": [],
   "source": [
    "dict_ ={'User':[],'Movie':[]}\n",
    "for id_ in ((data).Id.values) :\n",
    "    split = id_.split('_')\n",
    "    dict_['User'] += [split[0][1:]]\n",
    "    dict_['Movie'] += [split[1][1:]]\n",
    "formated_data = pd.DataFrame(dict_)\n",
    "formated_data.head()"
   ]
  },
  {
   "cell_type": "code",
   "execution_count": null,
   "metadata": {
    "collapsed": false
   },
   "outputs": [],
   "source": [
    "formated_data.loc[:,'Rating'] = data.Prediction"
   ]
  },
  {
   "cell_type": "code",
   "execution_count": null,
   "metadata": {
    "collapsed": false
   },
   "outputs": [],
   "source": [
    "index_train, index_test = cross_vad(data,0.7)\n",
    "train = formated_data.loc[index_train]\n",
    "test  = formated_data.loc[index_test]\n",
    "test.head()"
   ]
  },
  {
   "cell_type": "code",
   "execution_count": null,
   "metadata": {
    "collapsed": false
   },
   "outputs": [],
   "source": [
    "test_on = test.drop('Rating',1)"
   ]
  },
  {
   "cell_type": "code",
   "execution_count": null,
   "metadata": {
    "collapsed": false
   },
   "outputs": [],
   "source": [
    "pDF = sq.createDataFrame(train)\n",
    "spDF = pDF.rdd"
   ]
  },
  {
   "cell_type": "code",
   "execution_count": null,
   "metadata": {
    "collapsed": false
   },
   "outputs": [],
   "source": [
    "# Build the recommendation model using Alternating Least Squares\n",
    "lambdas = np.logspace(-10,-0.01,10)\n",
    "#for lambda_ in lambdas :\n",
    "rank = 6 \n",
    "lambda_ = 0.07585775750291851\n",
    "print('rank = {c} and lambda = {l}'.format(c=(rank),l=lambda_))\n",
    "#for i in range(5,21) :\n",
    "\n",
    "print('iterations = {c}'.format(c=(17)))\n",
    "#rank = i+1\n",
    "numIterations = 17\n",
    "model = ALS.train(spDF, rank, numIterations,lambda_)\n",
    "pDF_test = sq.createDataFrame(test_on)\n",
    "spDF_test = pDF_test.rdd\n",
    "testdata = spDF_test.map(lambda p: (p[0], p[1]))\n",
    "predictions = model.predictAll(testdata).map(lambda r: (r[0], r[1], r[2]))\n",
    "s  = predictions.toDF()\n",
    "lol = s.toPandas()\n",
    "lol.sort_values(['_1','_2'],ascending=[1,1],inplace=True)\n",
    "predic_end = lol.reset_index(drop=True)\n",
    "test.Movie = test.Movie.values.astype(int)\n",
    "test.User = test.User.values.astype(int)\n",
    "new_test = test.sort_values(by=['Movie','User'],ascending=[True,True])\n",
    "test_end = new_test.reset_index(drop=True)\n",
    "test_end.head()\n",
    "print(np.mean((test_end.Rating.values-predic_end._3.values)**2))"
   ]
  },
  {
   "cell_type": "code",
   "execution_count": null,
   "metadata": {
    "collapsed": false
   },
   "outputs": [],
   "source": [
    "data_test = pd.read_csv('sampleSubmission.csv')"
   ]
  },
  {
   "cell_type": "code",
   "execution_count": null,
   "metadata": {
    "collapsed": false
   },
   "outputs": [],
   "source": [
    "dict_ ={'User':[],'Movie':[]}\n",
    "for id_ in ((data_test).Id.values) :\n",
    "    split = id_.split('_')\n",
    "    dict_['User'] += [split[0][1:]]\n",
    "    dict_['Movie'] += [split[1][1:]]\n",
    "formated_data = pd.DataFrame(dict_)\n",
    "formated_data.head()"
   ]
  },
  {
   "cell_type": "code",
   "execution_count": null,
   "metadata": {
    "collapsed": true
   },
   "outputs": [],
   "source": [
    "pDF = sq.createDataFrame(formated_data)\n",
    "spDF = pDF.rdd"
   ]
  },
  {
   "cell_type": "code",
   "execution_count": null,
   "metadata": {
    "collapsed": true
   },
   "outputs": [],
   "source": [
    "testdata = spDF.map(lambda p: (p[0], p[1]))\n",
    "predictions = model.predictAll(testdata).map(lambda r: (r[0], r[1], r[2]))\n"
   ]
  },
  {
   "cell_type": "code",
   "execution_count": null,
   "metadata": {
    "collapsed": false
   },
   "outputs": [],
   "source": [
    "s  = predictions.toDF()"
   ]
  },
  {
   "cell_type": "code",
   "execution_count": null,
   "metadata": {
    "collapsed": false
   },
   "outputs": [],
   "source": [
    "lol = s.toPandas()"
   ]
  },
  {
   "cell_type": "code",
   "execution_count": null,
   "metadata": {
    "collapsed": true
   },
   "outputs": [],
   "source": [
    "lol.sort_values(['_1','_2'],ascending=[1,1],inplace=True)\n",
    "predic_end = lol.reset_index(drop=True)"
   ]
  },
  {
   "cell_type": "code",
   "execution_count": null,
   "metadata": {
    "collapsed": false
   },
   "outputs": [],
   "source": [
    "predic_end[predic_end._3 < 1 ] = 1\n",
    "predic_end[predic_end._3 > 5 ] = 5\n",
    "predic_end.head()"
   ]
  },
  {
   "cell_type": "code",
   "execution_count": null,
   "metadata": {
    "collapsed": false
   },
   "outputs": [],
   "source": [
    "data_test.Prediction = predic_end._3\n",
    "data_test.to_csv('submission.csv',index=False)"
   ]
  },
  {
   "cell_type": "code",
   "execution_count": null,
   "metadata": {
    "collapsed": true
   },
   "outputs": [],
   "source": []
  }
 ],
 "metadata": {
  "anaconda-cloud": {},
  "kernelspec": {
   "display_name": "Python [Root]",
   "language": "python",
   "name": "Python [Root]"
  },
  "language_info": {
   "codemirror_mode": {
    "name": "ipython",
    "version": 3
   },
   "file_extension": ".py",
   "mimetype": "text/x-python",
   "name": "python",
   "nbconvert_exporter": "python",
   "pygments_lexer": "ipython3",
   "version": "3.5.2"
  }
 },
 "nbformat": 4,
 "nbformat_minor": 0
}
