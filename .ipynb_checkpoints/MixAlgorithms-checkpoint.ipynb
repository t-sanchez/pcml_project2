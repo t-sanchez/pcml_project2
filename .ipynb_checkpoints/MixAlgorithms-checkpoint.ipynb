{
 "cells": [
  {
   "cell_type": "code",
   "execution_count": 1,
   "metadata": {
    "collapsed": false
   },
   "outputs": [],
   "source": [
    "# Useful starting lines\n",
    "%matplotlib inline\n",
    "\n",
    "import numpy as np\n",
    "import scipy\n",
    "import scipy.io\n",
    "import scipy.sparse as sp\n",
    "import matplotlib.pyplot as plt\n",
    "%load_ext autoreload\n",
    "%autoreload 2"
   ]
  },
  {
   "cell_type": "code",
   "execution_count": 2,
   "metadata": {
    "collapsed": false
   },
   "outputs": [
    {
     "name": "stdout",
     "output_type": "stream",
     "text": [
      "number of items: 10000, number of users: 1000\n",
      "         User  Movie  Prediction\n",
      "768260    625   7331         5.0\n",
      "799019    644   6906         4.0\n",
      "337150    284   5362         3.0\n",
      "822526    657   9880         4.0\n",
      "1102454   907   8468         3.0\n",
      "        User  Movie  Prediction\n",
      "723429   605   2318         4.0\n",
      "955994   760   9509         2.0\n",
      "923421   730   9584         3.0\n",
      "533152   457   7283         4.0\n",
      "693011   593   2348         5.0\n"
     ]
    }
   ],
   "source": [
    "from helpers import *\n",
    "from cost import *\n",
    "crossValidation = True\n",
    "if crossValidation:\n",
    "    trainDF, testDF = crossValidationSets(0.7)\n",
    "else:\n",
    "    trainDF, testDF = realDataSets() # Kaggle datasets (with no predictions in valuesTest)\n",
    "\n",
    "print(trainDF.head())\n",
    "print(testDF.head())"
   ]
  },
  {
   "cell_type": "code",
   "execution_count": 26,
   "metadata": {
    "collapsed": false
   },
   "outputs": [],
   "source": [
    "from predictionAlgorithms import *\n",
    "\n",
    "rankALS = 6\n",
    "numIterationsALS = 20\n",
    "lambdaALS = 0.07585775750291851\n",
    "lambdaALS = 0.05\n",
    "\n",
    "predictionsUserMean = baseline_user_mean(trainDF, testDF)\n",
    "predictionsItemMean = baseline_item_mean(trainDF, testDF)\n",
    "#predictionsALS = ALSPyspark(trainDF, testDF, rankALS, lambdaALS, numIterationsALS)\n",
    "predictionsALS = ALSPyspark(trainDF, testDF, rankALS, lambdaALS, numIterationsALS)"
   ]
  },
  {
   "cell_type": "code",
   "execution_count": 27,
   "metadata": {
    "collapsed": false
   },
   "outputs": [
    {
     "name": "stdout",
     "output_type": "stream",
     "text": [
      "   _1   _2        _3\n",
      "0   0   60  3.563836\n",
      "1   0   89  3.368640\n",
      "2   0  181  3.238927\n",
      "3   0  354  3.289579\n",
      "4   0  400  3.611779\n",
      "    User  Movie  Prediction\n",
      "1      0     60         3.0\n",
      "5      0     89         4.0\n",
      "12     0    181         3.0\n",
      "16     0    354         2.0\n",
      "18     0    400         4.0\n"
     ]
    }
   ],
   "source": [
    "#print(predictionsALS.Prediction.values)\n",
    "print(predictionsALS.head())\n",
    "print(testDF.head())"
   ]
  },
  {
   "cell_type": "code",
   "execution_count": 30,
   "metadata": {
    "collapsed": false
   },
   "outputs": [
    {
     "name": "stdout",
     "output_type": "stream",
     "text": [
      "   _1   _2        _3\n",
      "0   0   60  3.563836\n",
      "1   0   89  3.368640\n",
      "2   0  181  3.238927\n",
      "3   0  354  3.289579\n",
      "4   0  400  3.611779\n",
      "    User  Movie  Prediction\n",
      "1      0     60         3.0\n",
      "5      0     89         4.0\n",
      "12     0    181         3.0\n",
      "16     0    354         2.0\n",
      "18     0    400         4.0\n",
      "0.98872381498\n"
     ]
    }
   ],
   "source": [
    "print(predictionsALS.head())\n",
    "testDF.sort_values(['User', 'Movie'], ascending=[1,1], inplace=True)\n",
    "print(testDF.head())\n",
    "#print(predictionsALS.Prediction)\n",
    "#print(testDF.Prediction)\n",
    "if crossValidation:\n",
    "    #print(np.mean((predictionsALS._3-testDF.Prediction.values)**2))\n",
    "    print(compute_cost(predictionsALS._3, testDF.Prediction.values))\n",
    "    #print(np.mean((predictionsALSMartin._3.values-testDF.Prediction)**2))"
   ]
  },
  {
   "cell_type": "code",
   "execution_count": 19,
   "metadata": {
    "collapsed": false
   },
   "outputs": [
    {
     "name": "stdout",
     "output_type": "stream",
     "text": [
      "4.33491461101\n",
      "3.8773006135\n",
      "3.61754298521\n",
      "3.73710492285\n"
     ]
    }
   ],
   "source": [
    "wUserMean = 0.1\n",
    "wItemMean = 0.0\n",
    "wALS = 0.5\n",
    "#predictions = (wUserMean*predictionsUserMean + wItemMean*predictionsItemMean + wALS*predictionsALS['Prediction']) / (wUserMean + wItemMean + wALS)\n",
    "predictions = (wUserMean*predictionsUserMean + wItemMean*predictionsItemMean + wALS*predictionsALS._3.values) / (wUserMean + wItemMean + wALS)\n",
    "print(predictionsUserMean[0])\n",
    "print(predictionsItemMean[0])\n",
    "#print(predictionsALS.Prediction.values[0])\n",
    "print(predictionsALS._3.values[0])\n",
    "print(predictions[0])"
   ]
  },
  {
   "cell_type": "code",
   "execution_count": 25,
   "metadata": {
    "collapsed": false
   },
   "outputs": [
    {
     "name": "stdout",
     "output_type": "stream",
     "text": [
      "0.0204081632653\n",
      "0.020842379505\n",
      "0.95874945723\n",
      "0.979848228802\n"
     ]
    }
   ],
   "source": [
    "from cv import *\n",
    "wUser, wItem, wALS, loss = optimize_weights(predictionsUserMean, predictionsItemMean, predictionsALS._3.values, testDF.Prediction.values)\n",
    "print(wUser)\n",
    "print(wItem)\n",
    "print(wALS)\n",
    "print(loss)"
   ]
  },
  {
   "cell_type": "code",
   "execution_count": 7,
   "metadata": {
    "collapsed": false
   },
   "outputs": [],
   "source": [
    "from helpers import *\n",
    "make_submission(predictions)"
   ]
  },
  {
   "cell_type": "code",
   "execution_count": null,
   "metadata": {
    "collapsed": false
   },
   "outputs": [],
   "source": [
    "predictionsALS"
   ]
  },
  {
   "cell_type": "code",
   "execution_count": null,
   "metadata": {
    "collapsed": false
   },
   "outputs": [],
   "source": [
    "from predictionAlgorithms import *\n",
    "predictionsALS = ALSPyspark(trainDF, testDF)"
   ]
  },
  {
   "cell_type": "code",
   "execution_count": null,
   "metadata": {
    "collapsed": false
   },
   "outputs": [],
   "source": [
    "predictionsALS.columns = ['User', 'Movie', 'Prediction']\n",
    "predictionsALS.sort_values(['User', 'Movie'], ascending=[1,1], inplace=True)\n",
    "predictionsALS.head()"
   ]
  },
  {
   "cell_type": "code",
   "execution_count": null,
   "metadata": {
    "collapsed": false
   },
   "outputs": [],
   "source": [
    "predictions = 0.25*predictionsUserMean+0.25*predictionsItemMean + 0.5*predictionsALS['Prediction']"
   ]
  },
  {
   "cell_type": "code",
   "execution_count": null,
   "metadata": {
    "collapsed": false
   },
   "outputs": [],
   "source": [
    "make_submission(predictions)"
   ]
  }
 ],
 "metadata": {
  "kernelspec": {
   "display_name": "Python 3",
   "language": "python",
   "name": "python3"
  },
  "language_info": {
   "codemirror_mode": {
    "name": "ipython",
    "version": 3
   },
   "file_extension": ".py",
   "mimetype": "text/x-python",
   "name": "python",
   "nbconvert_exporter": "python",
   "pygments_lexer": "ipython3",
   "version": "3.5.2"
  }
 },
 "nbformat": 4,
 "nbformat_minor": 1
}
