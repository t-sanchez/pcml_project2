{
 "cells": [
  {
   "cell_type": "markdown",
   "metadata": {},
   "source": [
    "# LibFM - Cross Validation\n",
    "\n",
    "Here, we rewrite the methods we use for the run with libFM in a way compatible with the cross-validation of the rest of the project. We import them from the .py scripts and run them to show an example.\n",
    "\n",
    "Usual imports first."
   ]
  },
  {
   "cell_type": "code",
   "execution_count": null,
   "metadata": {
    "collapsed": false
   },
   "outputs": [],
   "source": [
    "import pywFM\n",
    "import numpy as np\n",
    "import pandas as pd\n",
    "\n",
    "from helpers import df_load\n",
    "from cv import cross_validationALSBias_demo, cross_validationMCMC_demo\n",
    "from predictionAlgorithms import ALSBias_pywFM, MCMC_pywFM"
   ]
  },
  {
   "cell_type": "markdown",
   "metadata": {},
   "source": [
    "## 1. Run ALS with Bias"
   ]
  },
  {
   "cell_type": "code",
   "execution_count": null,
   "metadata": {
    "collapsed": false
   },
   "outputs": [],
   "source": [
    "cross_validationALSBias_demo()"
   ]
  },
  {
   "cell_type": "code",
   "execution_count": null,
   "metadata": {
    "collapsed": false
   },
   "outputs": [],
   "source": [
    "ALSBias_pywFM(df_load(\"data_train.csv\"),df_load(\"sampleSubmission.csv\"))"
   ]
  },
  {
   "cell_type": "markdown",
   "metadata": {},
   "source": [
    "## 2. Run MCMC"
   ]
  },
  {
   "cell_type": "code",
   "execution_count": null,
   "metadata": {
    "collapsed": false,
    "scrolled": true
   },
   "outputs": [],
   "source": [
    "cross_validationMCMC_demo()"
   ]
  },
  {
   "cell_type": "code",
   "execution_count": null,
   "metadata": {
    "collapsed": false
   },
   "outputs": [],
   "source": [
    "MCMC_pywFM(df_load(\"data_train.csv\"),df_load(\"sampleSubmission.csv\"), num_iter =5)"
   ]
  },
  {
   "cell_type": "markdown",
   "metadata": {},
   "source": [
    "## 3. Logs of the runs"
   ]
  },
  {
   "cell_type": "markdown",
   "metadata": {
    "collapsed": true
   },
   "source": [
    "```\n",
    "features_te, target_te, features_tr, target_tr =  df_to_sparse_split(df_load(\"data_train.csv\"),0.1)\n",
    "best_error, best_std, best_rank, best_r0, best_r1, best_r2 = ALS_CV(features_tr, target_tr, features_te, target_te, num_iter = 40, std_init_vec=[0.01,0.05,0.1], rank_vec=[7,9], r0_reg_vec=[0.5, 2], r1_reg_vec=[0.5, 2],r2_reg_vec=[0.5, 2])\n",
    "```\n",
    "Error =  0.997084  (for ALS with  40 iterations, std_init = 0.1 , k= 7 , r0_reg= 0.5 , r1_reg= 2 , r2_reg = 2 )\n",
    "\n",
    "\n",
    "```\n",
    "features_te, target_te, features_tr, target_tr =  df_to_sparse_split(df_load(\"data_train.csv\"),0.1)\n",
    "best_error, best_std, best_rank, best_r0, best_r1, best_r2 = ALS_CV(features_tr, target_tr, features_te, target_te,\n",
    "        num_iter = 40, std_init_vec=[0.5,1], rank_vec=[7,8], r0_reg_vec=[0.5, 2], r1_reg_vec=[2,3],r2_reg_vec=[2,3])\n",
    "```\n",
    "\n",
    "Error =  0.993506  (for ALS with  40 iterations, std_init = 0.5 , k= 7 , r0_reg= 0.5 , r1_reg= 3 , r2_reg = 3 )\n",
    "\n",
    "```\n",
    "best_error, best_std, best_rank, best_r0, best_r1, best_r2 = ALS_CV(features_tr, target_tr, features_te, target_te,\n",
    "        num_iter = 40, std_init_vec=[0.375,0.43], rank_vec=[7], r0_reg_vec=[0.5], r1_reg_vec=[15,20],r2_reg_vec=[20,25])\n",
    "```\n",
    "Error =  0.983401  (for ALS with  40 iterations, std_init = 0.43 , k= 7 , r0_reg= 0.5 , r1_reg= 15 , r2_reg = 25 )"
   ]
  },
  {
   "cell_type": "markdown",
   "metadata": {},
   "source": [
    "```\n",
    "features_te, target_te, features_tr, target_tr =  df_to_sparse_split(df_load(\"data_train.csv\"),0.1)\n",
    "MCMC_CV(features_tr, target_tr, features_te, target_te, num_iter = 60, std_init_vec = [0.5,0.8,1,1.5,2,5])\n",
    "```\n",
    "\n",
    "- Error =  0.979054  (for MCMC with  60 iterations, std_init = 0.5 )\n",
    "- Error =  0.979325  (for MCMC with  60 iterations, std_init = 0.8 )\n",
    "- Error =  0.978956  (for MCMC with  60 iterations, std_init = 1 )\n",
    "- Error =  0.979788  (for MCMC with  60 iterations, std_init = 1.5 )\n",
    "- Error =  0.986542  (for MCMC with  60 iterations, std_init = 2 )\n",
    "- Error =  1.01712  (for MCMC with  60 iterations, std_init = 5 )\n"
   ]
  }
 ],
 "metadata": {
  "anaconda-cloud": {},
  "kernelspec": {
   "display_name": "Python [Root]",
   "language": "python",
   "name": "Python [Root]"
  },
  "language_info": {
   "codemirror_mode": {
    "name": "ipython",
    "version": 3
   },
   "file_extension": ".py",
   "mimetype": "text/x-python",
   "name": "python",
   "nbconvert_exporter": "python",
   "pygments_lexer": "ipython3",
   "version": "3.5.2"
  }
 },
 "nbformat": 4,
 "nbformat_minor": 0
}
